{
 "cells": [
  {
   "cell_type": "markdown",
   "metadata": {},
   "source": [
    "# Preventive Health Copilot — Prompt Evaluation Report\n",
    "\n",
    "This report summarizes the evaluation of prompt performance using automated and rule-based scoring.\n",
    "\n",
    "**Data Source:** `data/evaluation_results.csv`  \n",
    "**Total Prompts Evaluated:** 10\n",
    "\n",
    "Metrics used:\n",
    "- Accuracy: Did the assistant include all expected keywords?\n",
    "- Coherence: Was the response grammatically and logically sound?\n",
    "- Completeness: Were all required concepts covered?\n",
    "- User-Friendliness: Was the tone natural and helpful?\n"
   ]
  },
  {
   "cell_type": "code",
   "execution_count": 2,
   "metadata": {},
   "outputs": [],
   "source": [
    "\n",
    "import pandas as pd\n",
    "import seaborn as sns\n",
    "import matplotlib.pyplot as plt"
   ]
  },
  {
   "cell_type": "markdown",
   "metadata": {},
   "source": [
    " Load Prompt & Evaluation Data\n",
    " "
   ]
  },
  {
   "cell_type": "code",
   "execution_count": 16,
   "metadata": {},
   "outputs": [],
   "source": [
    "df=pd.read_csv('..\\\\data\\\\evaluation_results.csv')"
   ]
  },
  {
   "cell_type": "code",
   "execution_count": 4,
   "metadata": {},
   "outputs": [
    {
     "data": {
      "text/html": [
       "<div>\n",
       "<style scoped>\n",
       "    .dataframe tbody tr th:only-of-type {\n",
       "        vertical-align: middle;\n",
       "    }\n",
       "\n",
       "    .dataframe tbody tr th {\n",
       "        vertical-align: top;\n",
       "    }\n",
       "\n",
       "    .dataframe thead th {\n",
       "        text-align: right;\n",
       "    }\n",
       "</style>\n",
       "<table border=\"1\" class=\"dataframe\">\n",
       "  <thead>\n",
       "    <tr style=\"text-align: right;\">\n",
       "      <th></th>\n",
       "      <th>Prompt</th>\n",
       "      <th>Response</th>\n",
       "      <th>Expected Keywords</th>\n",
       "      <th>Expected Tools</th>\n",
       "      <th>Accuracy</th>\n",
       "      <th>Coherence</th>\n",
       "      <th>Completeness</th>\n",
       "      <th>User-Friendliness</th>\n",
       "      <th>Reasoning Used</th>\n",
       "      <th>Score (0–5)</th>\n",
       "    </tr>\n",
       "  </thead>\n",
       "  <tbody>\n",
       "    <tr>\n",
       "      <th>0</th>\n",
       "      <td>What should I eat for lunch to lose weight?</td>\n",
       "      <td>## Step 1: Identify the task\\nThe task is to f...</td>\n",
       "      <td>fiber,vegetables,protein</td>\n",
       "      <td>Nutritionix,get_diet_tip</td>\n",
       "      <td>Yes</td>\n",
       "      <td>Yes</td>\n",
       "      <td>Yes</td>\n",
       "      <td>Yes</td>\n",
       "      <td>Yes</td>\n",
       "      <td>4.0</td>\n",
       "    </tr>\n",
       "    <tr>\n",
       "      <th>1</th>\n",
       "      <td>Remind me to drink water at 10am</td>\n",
       "      <td>## Health Reminder: Drink Water\\nYou have been...</td>\n",
       "      <td>Reminder set</td>\n",
       "      <td>mock_schedule_reminder</td>\n",
       "      <td>No</td>\n",
       "      <td>No</td>\n",
       "      <td>No</td>\n",
       "      <td>Yes</td>\n",
       "      <td>No</td>\n",
       "      <td>1.0</td>\n",
       "    </tr>\n",
       "    <tr>\n",
       "      <th>2</th>\n",
       "      <td>Give me a healthy snack idea.</td>\n",
       "      <td>## Healthy Snack Idea\\nA healthy snack idea is...</td>\n",
       "      <td>snack,healthy,nuts</td>\n",
       "      <td>get_diet_tip</td>\n",
       "      <td>No</td>\n",
       "      <td>Yes</td>\n",
       "      <td>No</td>\n",
       "      <td>Yes</td>\n",
       "      <td>No</td>\n",
       "      <td>2.0</td>\n",
       "    </tr>\n",
       "    <tr>\n",
       "      <th>3</th>\n",
       "      <td>What are some high protein vegetarian meals?</td>\n",
       "      <td>### High Protein Vegetarian Meals\\n\\nHere are ...</td>\n",
       "      <td>protein,vegetarian</td>\n",
       "      <td>Nutritionix</td>\n",
       "      <td>Yes</td>\n",
       "      <td>Yes</td>\n",
       "      <td>Yes</td>\n",
       "      <td>Yes</td>\n",
       "      <td>No</td>\n",
       "      <td>4.0</td>\n",
       "    </tr>\n",
       "    <tr>\n",
       "      <th>4</th>\n",
       "      <td>Suggest a healthy breakfast</td>\n",
       "      <td>## Step 1: Introduction to Healthy Breakfast\\n...</td>\n",
       "      <td>fiber,breakfast,protein</td>\n",
       "      <td>get_diet_tip,Nutritionix</td>\n",
       "      <td>Yes</td>\n",
       "      <td>Yes</td>\n",
       "      <td>Yes</td>\n",
       "      <td>Yes</td>\n",
       "      <td>Yes</td>\n",
       "      <td>4.0</td>\n",
       "    </tr>\n",
       "  </tbody>\n",
       "</table>\n",
       "</div>"
      ],
      "text/plain": [
       "                                         Prompt  \\\n",
       "0   What should I eat for lunch to lose weight?   \n",
       "1              Remind me to drink water at 10am   \n",
       "2                 Give me a healthy snack idea.   \n",
       "3  What are some high protein vegetarian meals?   \n",
       "4                   Suggest a healthy breakfast   \n",
       "\n",
       "                                            Response  \\\n",
       "0  ## Step 1: Identify the task\\nThe task is to f...   \n",
       "1  ## Health Reminder: Drink Water\\nYou have been...   \n",
       "2  ## Healthy Snack Idea\\nA healthy snack idea is...   \n",
       "3  ### High Protein Vegetarian Meals\\n\\nHere are ...   \n",
       "4  ## Step 1: Introduction to Healthy Breakfast\\n...   \n",
       "\n",
       "          Expected Keywords            Expected Tools Accuracy Coherence  \\\n",
       "0  fiber,vegetables,protein  Nutritionix,get_diet_tip      Yes       Yes   \n",
       "1              Reminder set    mock_schedule_reminder       No        No   \n",
       "2        snack,healthy,nuts              get_diet_tip       No       Yes   \n",
       "3        protein,vegetarian               Nutritionix      Yes       Yes   \n",
       "4   fiber,breakfast,protein  get_diet_tip,Nutritionix      Yes       Yes   \n",
       "\n",
       "  Completeness User-Friendliness Reasoning Used  Score (0–5)  \n",
       "0          Yes               Yes            Yes          4.0  \n",
       "1           No               Yes             No          1.0  \n",
       "2           No               Yes             No          2.0  \n",
       "3          Yes               Yes             No          4.0  \n",
       "4          Yes               Yes            Yes          4.0  "
      ]
     },
     "execution_count": 4,
     "metadata": {},
     "output_type": "execute_result"
    }
   ],
   "source": [
    "df.head()"
   ]
  },
  {
   "cell_type": "code",
   "execution_count": 5,
   "metadata": {},
   "outputs": [],
   "source": [
    "df.columns = df.columns.str.replace(\"–\", \"-\", regex=False).str.strip()\n"
   ]
  },
  {
   "cell_type": "code",
   "execution_count": 6,
   "metadata": {},
   "outputs": [
    {
     "data": {
      "text/plain": [
       "Index(['Prompt', 'Response', 'Expected Keywords', 'Expected Tools', 'Accuracy',\n",
       "       'Coherence', 'Completeness', 'User-Friendliness', 'Reasoning Used',\n",
       "       'Score (0-5)'],\n",
       "      dtype='object')"
      ]
     },
     "execution_count": 6,
     "metadata": {},
     "output_type": "execute_result"
    }
   ],
   "source": [
    "df.keys()"
   ]
  },
  {
   "cell_type": "markdown",
   "metadata": {},
   "source": [
    "Display Summary Stats\n"
   ]
  },
  {
   "cell_type": "code",
   "execution_count": 7,
   "metadata": {},
   "outputs": [
    {
     "data": {
      "text/html": [
       "<div>\n",
       "<style scoped>\n",
       "    .dataframe tbody tr th:only-of-type {\n",
       "        vertical-align: middle;\n",
       "    }\n",
       "\n",
       "    .dataframe tbody tr th {\n",
       "        vertical-align: top;\n",
       "    }\n",
       "\n",
       "    .dataframe thead th {\n",
       "        text-align: right;\n",
       "    }\n",
       "</style>\n",
       "<table border=\"1\" class=\"dataframe\">\n",
       "  <thead>\n",
       "    <tr style=\"text-align: right;\">\n",
       "      <th></th>\n",
       "      <th>Total Prompts</th>\n",
       "      <th>Avg Score</th>\n",
       "      <th>Accuracy %</th>\n",
       "      <th>Coherence %</th>\n",
       "      <th>Completeness %</th>\n",
       "      <th>User-Friendliness %</th>\n",
       "    </tr>\n",
       "  </thead>\n",
       "  <tbody>\n",
       "    <tr>\n",
       "      <th>Metric</th>\n",
       "      <td>11</td>\n",
       "      <td>3.0</td>\n",
       "      <td>0.0</td>\n",
       "      <td>0.0</td>\n",
       "      <td>0.0</td>\n",
       "      <td>0.0</td>\n",
       "    </tr>\n",
       "  </tbody>\n",
       "</table>\n",
       "</div>"
      ],
      "text/plain": [
       "        Total Prompts  Avg Score  Accuracy %  Coherence %  Completeness %  \\\n",
       "Metric             11        3.0         0.0          0.0             0.0   \n",
       "\n",
       "        User-Friendliness %  \n",
       "Metric                  0.0  "
      ]
     },
     "execution_count": 7,
     "metadata": {},
     "output_type": "execute_result"
    }
   ],
   "source": [
    "summary = {\n",
    "    \"Total Prompts\": len(df),\n",
    "    \"Avg Score\": df[\"Score (0-5)\"].mean().round(2),\n",
    "    \"Accuracy %\": (df[\"Accuracy\"] == \"✅\").mean() * 100,\n",
    "    \"Coherence %\": (df[\"Coherence\"] == \"✅\").mean() * 100,\n",
    "    \"Completeness %\": (df[\"Completeness\"] == \"✅\").mean() * 100,\n",
    "    \"User-Friendliness %\": (df[\"User-Friendliness\"] == \"✅\").mean() * 100,\n",
    "}\n",
    "pd.DataFrame(summary, index=[\"Metric\"])\n"
   ]
  },
  {
   "cell_type": "markdown",
   "metadata": {},
   "source": [
    "Visualize Score Distribution"
   ]
  },
  {
   "cell_type": "code",
   "execution_count": 8,
   "metadata": {},
   "outputs": [
    {
     "name": "stderr",
     "output_type": "stream",
     "text": [
      "C:\\Users\\saikr\\AppData\\Local\\Temp\\ipykernel_5476\\3951358003.py:3: FutureWarning: \n",
      "\n",
      "Passing `palette` without assigning `hue` is deprecated and will be removed in v0.14.0. Assign the `x` variable to `hue` and set `legend=False` for the same effect.\n",
      "\n",
      "  sns.countplot(data=df, x=\"Score (0-5)\", palette=\"Blues\")\n"
     ]
    },
    {
     "data": {
      "image/png": "[encoded data removed]",
      "text/plain": [
       "<Figure size 800x500 with 1 Axes>"
      ]
     },
     "metadata": {},
     "output_type": "display_data"
    }
   ],
   "source": [
    "sns.set(style=\"whitegrid\")\n",
    "plt.figure(figsize=(8, 5))\n",
    "sns.countplot(data=df, x=\"Score (0-5)\", palette=\"Blues\")\n",
    "plt.title(\"Distribution of Evaluation Scores\")\n",
    "plt.xlabel(\"Score (0–5)\")\n",
    "plt.ylabel(\"Number of Prompts\")\n",
    "plt.show()"
   ]
  },
  {
   "cell_type": "markdown",
   "metadata": {},
   "source": [
    "Show Pass/Fail Matrix (Heatmap)\n"
   ]
  },
  {
   "cell_type": "code",
   "execution_count": 9,
   "metadata": {},
   "outputs": [
    {
     "name": "stderr",
     "output_type": "stream",
     "text": [
      "C:\\Users\\saikr\\AppData\\Local\\Temp\\ipykernel_5476\\746031880.py:11: FutureWarning: DataFrame.applymap has been deprecated. Use DataFrame.map instead.\n",
      "  heat_data = df[cols].applymap(convert_to_binary)\n"
     ]
    }
   ],
   "source": [
    "# Map all possible pass/fail indicators to 1 or 0\n",
    "def convert_to_binary(val):\n",
    "    if str(val).strip().lower() in [\"✅\", \"yes\", \"1\"]:\n",
    "        return 1\n",
    "    elif str(val).strip().lower() in [\"❌\", \"no\", \"0\"]:\n",
    "        return 0\n",
    "    return np.nan  # mark anything else as missing\n",
    "\n",
    "# Apply to specific columns\n",
    "cols = [\"Accuracy\", \"Coherence\", \"Completeness\", \"User-Friendliness\"]\n",
    "heat_data = df[cols].applymap(convert_to_binary)\n"
   ]
  },
  {
   "cell_type": "code",
   "execution_count": 10,
   "metadata": {},
   "outputs": [
    {
     "data": {
      "image/png": "[encoded data removed]",
      "text/plain": [
       "<Figure size 640x480 with 1 Axes>"
      ]
     },
     "metadata": {},
     "output_type": "display_data"
    }
   ],
   "source": [
    "import seaborn as sns\n",
    "import matplotlib.pyplot as plt\n",
    "\n",
    "sns.heatmap(heat_data.T, cmap=\"YlOrRd\", cbar=False, annot=True)\n",
    "plt.title(\"Failure Matrix (1=Pass, 0=Fail)\")\n",
    "plt.xlabel(\"Prompt Index\")\n",
    "plt.ylabel(\"Evaluation Criteria\")\n",
    "plt.show()\n"
   ]
  },
  {
   "cell_type": "markdown",
   "metadata": {},
   "source": [
    "Highlight Low-Performing Prompts\n"
   ]
  },
  {
   "cell_type": "code",
   "execution_count": 11,
   "metadata": {},
   "outputs": [
    {
     "data": {
      "text/html": [
       "<div>\n",
       "<style scoped>\n",
       "    .dataframe tbody tr th:only-of-type {\n",
       "        vertical-align: middle;\n",
       "    }\n",
       "\n",
       "    .dataframe tbody tr th {\n",
       "        vertical-align: top;\n",
       "    }\n",
       "\n",
       "    .dataframe thead th {\n",
       "        text-align: right;\n",
       "    }\n",
       "</style>\n",
       "<table border=\"1\" class=\"dataframe\">\n",
       "  <thead>\n",
       "    <tr style=\"text-align: right;\">\n",
       "      <th></th>\n",
       "      <th>Prompt</th>\n",
       "      <th>Score (0-5)</th>\n",
       "      <th>Accuracy</th>\n",
       "      <th>Completeness</th>\n",
       "      <th>User-Friendliness</th>\n",
       "    </tr>\n",
       "  </thead>\n",
       "  <tbody>\n",
       "    <tr>\n",
       "      <th>1</th>\n",
       "      <td>Remind me to drink water at 10am</td>\n",
       "      <td>1.0</td>\n",
       "      <td>No</td>\n",
       "      <td>No</td>\n",
       "      <td>Yes</td>\n",
       "    </tr>\n",
       "    <tr>\n",
       "      <th>2</th>\n",
       "      <td>Give me a healthy snack idea.</td>\n",
       "      <td>2.0</td>\n",
       "      <td>No</td>\n",
       "      <td>No</td>\n",
       "      <td>Yes</td>\n",
       "    </tr>\n",
       "    <tr>\n",
       "      <th>5</th>\n",
       "      <td>Track calories for 2 bananas and a boiled egg</td>\n",
       "      <td>3.0</td>\n",
       "      <td>Yes</td>\n",
       "      <td>Yes</td>\n",
       "      <td>Yes</td>\n",
       "    </tr>\n",
       "    <tr>\n",
       "      <th>6</th>\n",
       "      <td>Remind me to walk every day at 7pm</td>\n",
       "      <td>1.0</td>\n",
       "      <td>No</td>\n",
       "      <td>No</td>\n",
       "      <td>Yes</td>\n",
       "    </tr>\n",
       "    <tr>\n",
       "      <th>8</th>\n",
       "      <td>Healthy dinner for weight loss</td>\n",
       "      <td>2.0</td>\n",
       "      <td>No</td>\n",
       "      <td>No</td>\n",
       "      <td>Yes</td>\n",
       "    </tr>\n",
       "  </tbody>\n",
       "</table>\n",
       "</div>"
      ],
      "text/plain": [
       "                                          Prompt  Score (0-5) Accuracy  \\\n",
       "1               Remind me to drink water at 10am          1.0       No   \n",
       "2                  Give me a healthy snack idea.          2.0       No   \n",
       "5  Track calories for 2 bananas and a boiled egg          3.0      Yes   \n",
       "6             Remind me to walk every day at 7pm          1.0       No   \n",
       "8                 Healthy dinner for weight loss          2.0       No   \n",
       "\n",
       "  Completeness User-Friendliness  \n",
       "1           No               Yes  \n",
       "2           No               Yes  \n",
       "5          Yes               Yes  \n",
       "6           No               Yes  \n",
       "8           No               Yes  "
      ]
     },
     "execution_count": 11,
     "metadata": {},
     "output_type": "execute_result"
    }
   ],
   "source": [
    "weak_prompts = df[df[\"Score (0-5)\"] <= 3]\n",
    "weak_prompts[[\"Prompt\", \"Score (0-5)\", \"Accuracy\", \"Completeness\", \"User-Friendliness\"]]\n"
   ]
  },
  {
   "cell_type": "code",
   "execution_count": 12,
   "metadata": {},
   "outputs": [
    {
     "data": {
      "text/html": [
       "<div>\n",
       "<style scoped>\n",
       "    .dataframe tbody tr th:only-of-type {\n",
       "        vertical-align: middle;\n",
       "    }\n",
       "\n",
       "    .dataframe tbody tr th {\n",
       "        vertical-align: top;\n",
       "    }\n",
       "\n",
       "    .dataframe thead th {\n",
       "        text-align: right;\n",
       "    }\n",
       "</style>\n",
       "<table border=\"1\" class=\"dataframe\">\n",
       "  <thead>\n",
       "    <tr style=\"text-align: right;\">\n",
       "      <th></th>\n",
       "      <th>Used In Prompts</th>\n",
       "    </tr>\n",
       "  </thead>\n",
       "  <tbody>\n",
       "    <tr>\n",
       "      <th>Nutritionix</th>\n",
       "      <td>5</td>\n",
       "    </tr>\n",
       "    <tr>\n",
       "      <th>get_diet_tip</th>\n",
       "      <td>5</td>\n",
       "    </tr>\n",
       "    <tr>\n",
       "      <th>mock_schedule_reminder</th>\n",
       "      <td>3</td>\n",
       "    </tr>\n",
       "    <tr>\n",
       "      <th>OpenFoodFacts</th>\n",
       "      <td>1</td>\n",
       "    </tr>\n",
       "  </tbody>\n",
       "</table>\n",
       "</div>"
      ],
      "text/plain": [
       "                        Used In Prompts\n",
       "Nutritionix                           5\n",
       "get_diet_tip                          5\n",
       "mock_schedule_reminder                3\n",
       "OpenFoodFacts                         1"
      ]
     },
     "execution_count": 12,
     "metadata": {},
     "output_type": "execute_result"
    }
   ],
   "source": [
    "from collections import Counter\n",
    "import csv\n",
    "\n",
    "with open(\"../data/prompts.csv\") as f:\n",
    "    reader = csv.DictReader(f)\n",
    "    tools = [t.strip() for row in reader for t in row[\"Expected Tools\"].split(\",\")]\n",
    "\n",
    "tool_counts = Counter(tools)\n",
    "pd.DataFrame.from_dict(tool_counts, orient='index', columns=[\"Used In Prompts\"]).sort_values(\"Used In Prompts\", ascending=False)\n"
   ]
  },
  {
   "cell_type": "markdown",
   "metadata": {},
   "source": [
    "Correlation Between Metrics\n"
   ]
  },
  {
   "cell_type": "code",
   "execution_count": 13,
   "metadata": {},
   "outputs": [
    {
     "data": {
      "image/png": "[encoded data removed]",
      "text/plain": [
       "<Figure size 640x480 with 2 Axes>"
      ]
     },
     "metadata": {},
     "output_type": "display_data"
    }
   ],
   "source": [
    "correlation = heat_data.corr()\n",
    "sns.heatmap(correlation, annot=True, cmap=\"coolwarm\")\n",
    "plt.title(\"Correlation Between Evaluation Metrics\")\n",
    "plt.show()\n"
   ]
  },
  {
   "cell_type": "code",
   "execution_count": null,
   "metadata": {},
   "outputs": [],
   "source": []
  },
  {
   "cell_type": "code",
   "execution_count": null,
   "metadata": {},
   "outputs": [],
   "source": []
  }
 ],
 "metadata": {
  "kernelspec": {
   "display_name": ".venv",
   "language": "python",
   "name": "python3"
  },
  "language_info": {
   "codemirror_mode": {
    "name": "ipython",
    "version": 3
   },
   "file_extension": ".py",
   "mimetype": "text/x-python",
   "name": "python",
   "nbconvert_exporter": "python",
   "pygments_lexer": "ipython3",
   "version": "3.12.0"
  }
 },
 "nbformat": 4,
 "nbformat_minor": 2
}
